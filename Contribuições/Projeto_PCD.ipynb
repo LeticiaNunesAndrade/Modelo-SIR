{
 "cells": [
  {
   "cell_type": "code",
   "execution_count": 1,
   "id": "e46a8aa3-684e-447c-97f5-19677d0f3108",
   "metadata": {},
   "outputs": [
    {
     "ename": "NameError",
     "evalue": "name 'S0' is not defined",
     "output_type": "error",
     "traceback": [
      "\u001b[1;31m---------------------------------------------------------------------------\u001b[0m",
      "\u001b[1;31mNameError\u001b[0m                                 Traceback (most recent call last)",
      "Cell \u001b[1;32mIn[1], line 31\u001b[0m\n\u001b[0;32m     28\u001b[0m \u001b[38;5;250m    \u001b[39m\u001b[38;5;124;03m\"\"\" Retorna os resultados das equações na forma de array numpy. \"\"\"\u001b[39;00m\n\u001b[0;32m     30\u001b[0m \u001b[38;5;66;03m# Define um vetor de condições iniciais para ser utilizado no odeint\u001b[39;00m\n\u001b[1;32m---> 31\u001b[0m v_inicial \u001b[38;5;241m=\u001b[39m [\u001b[43mS0\u001b[49m, I0, R0]\n\u001b[0;32m     33\u001b[0m \u001b[38;5;66;03m# Integra as equações SIR sobre a grade de tempo\u001b[39;00m\n\u001b[0;32m     34\u001b[0m resultado \u001b[38;5;241m=\u001b[39m odeint(modelo_sir, v_inicial, t)\n",
      "\u001b[1;31mNameError\u001b[0m: name 'S0' is not defined"
     ]
    }
   ],
   "source": [
    "def modelo_sir(vetor, t):\n",
    "    S, I, R = vetor\n",
    "    \"\"\" Aqui definimos a função que fará os cálculos a partir dos dados imputados pelo usuário. O vetor de transmissão\n",
    "    é definido por três componentes, S, I e R respectivamente, que correspondem ao número de indivíduos sucetíveis a \n",
    "    infecção (S), indivíduos infectados (I) e indivíduos recuperados, agora imunes à doença em questão (R)\"\"\"\n",
    "    \n",
    "    dotS = -beta * S * I / N\n",
    "    \n",
    "    \"\"\" Aqui temos a primeira equação diferencial, em que se calcula a derivada de S em relação ao tempo, ou seja,\n",
    "    quantas pessoas deixam de ser sucetíveis a infecção ao longo do tempo, logo, a fórmula representa os novos \n",
    "    infectados. Beta representa a taxa de transmissão, e , nessa equação, está negativo pois o número de sucetíveis\n",
    "    está diminuindo. N é a população total\"\"\"\n",
    "\n",
    "    dotI = beta * S * I / N - gamma * I\n",
    "\n",
    "    \"\"\" Aqui temos a segunda equação diferencial, em que se calcula a derivada de I, ou seja, como o número de\n",
    "    infectados muda com o tempo. O primeiro termo (beta * S * I / N) calcula o número de indivíduos sendo infectados.\n",
    "    Já o segundo termo (-gamma * I) calcula o número de pessoas se recuperando, ou seja, saindo do grupo dos \n",
    "    infecados. Gamma é a taxa de recuperação. \"\"\"\n",
    "\n",
    "    dotR = gamma * I\n",
    "\n",
    "    \"\"\" Aqui temos a terceira equação diferencial, em que se calcula a derivada de R, ou seja, quantas pessoas se\n",
    "    recuperam por unidade de tempo. Isso implica que R é proporcional a I. \"\"\"\n",
    "\n",
    "    return np.array([dotS, dotI, dotR])\n",
    "\n",
    "    \"\"\" Retorna os resultados das equações na forma de array numpy. \"\"\"\n",
    "\n",
    "# Define um vetor de condições iniciais para ser utilizado no odeint\n",
    "v_inicial = [S0, I0, R0]\n",
    "\n",
    "# Integra as equações SIR sobre a grade de tempo\n",
    "resultado = odeint(modelo_sir, v_inicial, t)\n",
    "# Transpõe a matriz resultado para facilitar a plotagem do gráfico\n",
    "S, I, R = resultado.T\n",
    "\n",
    "# Cálculo do número básico de reprodução R0 para indicar quão contagiosa é a doença analisada\n",
    "R0_basic = beta / gama\n",
    "print(f\"Número básico de reprodução (R0): {R0_basic:.2f}\")"
   ]
  },
  {
   "cell_type": "code",
   "execution_count": null,
   "id": "f52cb18c-4457-4ea8-b6a0-e6885c8b3790",
   "metadata": {},
   "outputs": [],
   "source": []
  }
 ],
 "metadata": {
  "kernelspec": {
   "display_name": "Python 3",
   "language": "python",
   "name": "python3"
  },
  "language_info": {
   "codemirror_mode": {
    "name": "ipython",
    "version": 3
   },
   "file_extension": ".py",
   "mimetype": "text/x-python",
   "name": "python",
   "nbconvert_exporter": "python",
   "pygments_lexer": "ipython3",
   "version": "3.12.7"
  }
 },
 "nbformat": 4,
 "nbformat_minor": 5
}
