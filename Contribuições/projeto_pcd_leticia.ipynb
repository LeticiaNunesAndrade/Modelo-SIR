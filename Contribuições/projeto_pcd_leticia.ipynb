{
 "cells": [
  {
   "cell_type": "code",
   "execution_count": null,
   "id": "bb7485e6",
   "metadata": {},
   "outputs": [],
   "source": [
    "def obter_dados_varias_cidades():\n",
    "    \"\"\"\n",
    "    Solicita ao usuário os parâmetros do modelo SIR para múltiplas cidades,\n",
    "    bem como os dados de mobilidade (viagens) entre elas.\n",
    "    \"\"\"\n",
    "    num_cidades = int(input(\"Quantas cidades participarão da simulação? \"))\n",
    "    cidades = []\n",
    "    parametros = {}\n",
    "\n",
    "    for i in range(num_cidades):\n",
    "        nome = input(f\"\\nNome da cidade {i + 1}: \")\n",
    "        cidades.append(nome)\n",
    "\n",
    "        print(f\"Parâmetros para {nome}:\")\n",
    "        S = int(input(\"  Número de suscetíveis: \"))\n",
    "        I = int(input(\"  Número de infectados: \"))\n",
    "        R = int(input(\"  Número de recuperados: \"))\n",
    "\n",
    "        total = S + I + R\n",
    "        if total == 0:\n",
    "            print(\"  Erro: a população total não pode ser zero.\")\n",
    "            return None\n",
    "\n",
    "        parametros[nome] = {\"S\": S, \"I\": I, \"R\": R}\n",
    "\n",
    "    beta = float(input(\"\\nInsira o valor de beta (taxa de transmissão, entre 0 e 1): \"))\n",
    "    if not (0 <= beta <= 1):\n",
    "        print(\"Erro: beta deve estar entre 0 e 1.\")\n",
    "        return None\n",
    "\n",
    "    gamma = float(input(\"Insira o valor de gamma (taxa de recuperação, entre 0 e 1): \"))\n",
    "    if not (0 <= gamma <= 1):\n",
    "        print(\"Erro: gamma deve estar entre 0 e 1.\")\n",
    "        return None\n",
    "\n",
    "    print(\"\\nAgora informe quantas pessoas infectadas viajam diariamente de uma cidade para outra:\")\n",
    "    mobilidade = {}\n",
    "    for origem in cidades:\n",
    "        for destino in cidades:\n",
    "            if origem != destino:\n",
    "                chave = (origem, destino)\n",
    "                viajantes = int(input(f\"  {origem} → {destino}: \"))\n",
    "                mobilidade[chave] = viajantes\n",
    "\n",
    "    return cidades, parametros, mobilidade, beta, gamma"
   ]
  },
  {
   "cell_type": "code",
   "execution_count": null,
   "id": "70709641",
   "metadata": {},
   "outputs": [],
   "source": []
  }
 ],
 "metadata": {
  "kernelspec": {
   "display_name": "Python 3",
   "language": "python",
   "name": "python3"
  },
  "language_info": {
   "name": "python",
   "version": "3.12.7"
  }
 },
 "nbformat": 4,
 "nbformat_minor": 5
}
