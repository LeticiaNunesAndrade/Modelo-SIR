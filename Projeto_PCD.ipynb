{
 "cells": [
  {
   "cell_type": "code",
   "execution_count": null,
   "id": "e46a8aa3-684e-447c-97f5-19677d0f3108",
   "metadata": {},
   "outputs": [],
   "source": [
    "def derivada(vetor, tempo):\n",
    "    S, I, R = vetor\n",
    "    \"\"\" Aqui definimos a função que fará os cálculos a partir dos dados imputados pelo usuário. O vetor de transmissão\n",
    "    é definido por três componentes, S, I e R respectivamente, que correspondem ao número de indivíduos sucetíveis a \n",
    "    infecção (S), indivíduos infectados (I) e indivíduos recuperados, agora imunes à doença em questão (R)\"\"\"\n",
    "    \n",
    "    dotS = -beta * S * I / N\n",
    "    \n",
    "    \"\"\" Aqui temos a primeira equação diferencial, em que se calcula a derivada de S em relação ao tempo, ou seja,\n",
    "    quantas pessoas deixam de ser sucetíveis a infecção ao longo do tempo, logo, a fórmula representa os novos \n",
    "    infectados. Beta representa a taxa de transmissão, e , nessa equação, está negativo pois o número de sucetíveis\n",
    "    está diminuindo. N é a população total\"\"\"\n",
    "\n",
    "    dotI = beta * S * I / N - gamma * I\n",
    "\n",
    "    \"\"\" Aqui temos a segunda equação diferencial, em que se calcula a derivada de I, ou seja, como o número de\n",
    "    infectados muda com o tempo. O primeiro termo (beta * S * I / N) calcula o número de indivíduos sendo infectados.\n",
    "    Já o segundo termo (-gamma * I) calcula o número de pessoas se recuperando, ou seja, saindo do grupo dos \n",
    "    infecados. Gamma é a taxa de recuperação. \"\"\"\n",
    "\n",
    "    dotR = gamma * I\n",
    "\n",
    "    \"\"\" Aqui temos a terceira equação diferencial, em que se calcula a derivada de R, ou seja, quantas pessoas se\n",
    "    recuperam por unidade de tempo. Isso implica que R é proporcional a I. \"\"\"\n",
    "\n",
    "    return np.array([dotS, dotI, dotR])\n",
    "\n",
    "    \"\"\" Retorna os resultados das equações na forma de array numpy. \n",
    "    "
   ]
  }
 ],
 "metadata": {
  "kernelspec": {
   "display_name": "ilumpy",
   "language": "python",
   "name": "ilumpy"
  },
  "language_info": {
   "codemirror_mode": {
    "name": "ipython",
    "version": 3
   },
   "file_extension": ".py",
   "mimetype": "text/x-python",
   "name": "python",
   "nbconvert_exporter": "python",
   "pygments_lexer": "ipython3",
   "version": "3.12.7"
  }
 },
 "nbformat": 4,
 "nbformat_minor": 5
}
