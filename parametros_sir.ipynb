{
 "cells": [
  {
   "cell_type": "code",
   "execution_count": 11,
   "id": "09374214-fcbc-4f57-981b-2ee4f5c03c49",
   "metadata": {},
   "outputs": [],
   "source": [
    "def obter_parametros():\n",
    "    beta = float(input(\"Insira o parâmetro de beta: \")) # Solicita ao usuário o valor do parâmetro beta (taxa de transmissão)\n",
    "    if not (0 <= beta <= 1):\n",
    "            print(\"Erro: o parâmetro beta deve estar entre o e 1.\") # Verifica se beta está dentro do intervalo válido [0, 1]\n",
    "    \n",
    "    gamma = float(input(\"Insira o parâmetro de gamma: \"))  # Solicita ao usuário o valor do parâmetro gamma (taxa de recuperação\n",
    "    if not (0 <= gamma <= 1):\n",
    "            print(\"Erro: o parâmetro gamma deve estar entre o e 1.\") # Verifica se gamma está dentro do intervalo válido [0, 1]\n",
    "    \n",
    "    # Solicita ao usuário os números absolutos de pessoas em cada categoria\n",
    "    S0 = int(input(\"Insira o parâmetro de suscetíveis: \"))\n",
    "    I0 = int(input(\"Insira o parâmetro de infectados: \"))\n",
    "    R0 = int(input(\"Insira o parâmetro de recuperados: \"))\n",
    "\n",
    "    # Calcula a população total\n",
    "    total = S0 + I0 + R0\n",
    "    \n",
    "    # Verifica se a população total é zero (o que causaria erro nos cálculos)\n",
    "    if total == 0:\n",
    "            print(\"Erro: a população total não pode ser zero.\")\n",
    "        "
   ]
  }
 ],
 "metadata": {
  "kernelspec": {
   "display_name": "ilumpy",
   "language": "python",
   "name": "ilumpy"
  },
  "language_info": {
   "codemirror_mode": {
    "name": "ipython",
    "version": 3
   },
   "file_extension": ".py",
   "mimetype": "text/x-python",
   "name": "python",
   "nbconvert_exporter": "python",
   "pygments_lexer": "ipython3",
   "version": "3.12.7"
  }
 },
 "nbformat": 4,
 "nbformat_minor": 5
}
